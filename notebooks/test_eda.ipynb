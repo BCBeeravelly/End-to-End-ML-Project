import numpy as np
from scipy.stats import mannwhitneyu

# Define a function to perform the Mann-Whitney U test and check significance
def test_significance(data, group1, group2):
    sample1 = data[data['travel_with'] == group1]['total_cost'].sample(n=100, random_state=42)
    sample2 = data[data['travel_with'] == group2]['total_cost'].sample(n=100, random_state=42)
    statistic, p_value = mannwhitneyu(sample1, sample2, alternative='two-sided')
    if p_value < 0.05:
        return True
    else:
        return False

# Test all combinations of travel_with
travel_with_values = data['travel_with'].unique()
significant_combinations = []
for i in range(len(travel_with_values)):
    for j in range(i+1, len(travel_with_values)):
        if not test_significance(data, travel_with_values[i], travel_with_values[j]):
            significant_combinations.append((travel_with_values[i], travel_with_values[j]))

# Print the results
if len(significant_combinations) > 0:
    print("The following combinations of travel_with are not significant:")
    for combination in significant_combinations:
        print(f"{combination[0]} vs {combination[1]}")
else:
    print("All combinations of travel_with are significant.")